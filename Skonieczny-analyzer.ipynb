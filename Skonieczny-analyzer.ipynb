{
 "cells": [
  {
   "cell_type": "code",
   "execution_count": 412,
   "metadata": {},
   "outputs": [],
   "source": [
    "#Facts\n",
    "currentTradingPrice=175.5\n",
    "currentEarningsPerShare=9.83*1.25\n",
    "currentPE=15\n",
    "dividends=0.0198\n",
    "years=10\n",
    "\n",
    "\n",
    "\n",
    "\n"
   ]
  },
  {
   "cell_type": "code",
   "execution_count": 445,
   "metadata": {},
   "outputs": [],
   "source": [
    "#Assumptions\n",
    "earningsGrowthRateFirstFive=1-8.5/9.83\n",
    "earningsGrowthRateSecondFive=0.1\n",
    "discountRate=0.1\n",
    "peTenYears=15"
   ]
  },
  {
   "cell_type": "code",
   "execution_count": 440,
   "metadata": {},
   "outputs": [],
   "source": [
    "#results\n",
    "projectedEarnings=[0]*(years)\n",
    "projectedDividends=[0]*(years)\n",
    "discountedDividends=[0]*(years)"
   ]
  },
  {
   "cell_type": "code",
   "execution_count": 441,
   "metadata": {},
   "outputs": [],
   "source": [
    "for i in range(1, years+1):\n",
    "    if(i<6):\n",
    "        \n",
    "        \n",
    "        \n",
    "        \n",
    "        projectedEarnings[i-1]=round(currentEarningsPerShare*((1+earningsGrowthRateFirstFive)**i),2)\n",
    "    else:\n",
    "        projectedEarnings[i-1]=round(projectedEarnings[4]*(1+earningsGrowthRateSecondFive)**(i-5),2)   "
   ]
  },
  {
   "cell_type": "code",
   "execution_count": 442,
   "metadata": {},
   "outputs": [],
   "source": [
    "for index, i in enumerate(projectedEarnings):\n",
    "    projectedDividends[index]=round(i*dividends,2)"
   ]
  },
  {
   "cell_type": "code",
   "execution_count": 443,
   "metadata": {},
   "outputs": [],
   "source": [
    "\n",
    "\n",
    "\n",
    "\n",
    "\n",
    "for index, dividend in enumerate(projectedDividends):\n",
    "    discountedDividends[index]=round(dividend/((1+discountRate)**(index+1)),2)"
   ]
  },
  {
   "cell_type": "code",
   "execution_count": 444,
   "metadata": {},
   "outputs": [
    {
     "name": "stdout",
     "output_type": "stream",
     "text": [
      "value of the stock: 174.6\n",
      "discountToValue: -0.0052\n",
      "SELL!\n"
     ]
    }
   ],
   "source": [
    "valueOfFutureDividendsToday=sum(discountedDividends)\n",
    "terminalValue=projectedEarnings[years-1]*peTenYears\n",
    "discountedTerminalValue=round(terminalValue/((1+discountRate)**years),2)\n",
    "valueOfFutureSalesPriceToday=discountedTerminalValue\n",
    "valueOfTheStock=round(valueOfFutureDividendsToday+valueOfFutureSalesPriceToday,2)\n",
    "discountToValue=round(1-currentTradingPrice/valueOfTheStock,4)\n",
    "print(\"value of the stock:\",valueOfTheStock)\n",
    "print(\"discountToValue:\",discountToValue)\n",
    "if(discountToValue>0):\n",
    "    print('BUY!')\n",
    "else:\n",
    "    print('SELL!')"
   ]
  },
  {
   "cell_type": "code",
   "execution_count": null,
   "metadata": {},
   "outputs": [],
   "source": []
  }
 ],
 "metadata": {
  "kernelspec": {
   "display_name": "Python 3",
   "language": "python",
   "name": "python3"
  },
  "language_info": {
   "codemirror_mode": {
    "name": "ipython",
    "version": 3
   },
   "file_extension": ".py",
   "mimetype": "text/x-python",
   "name": "python",
   "nbconvert_exporter": "python",
   "pygments_lexer": "ipython3",
   "version": "3.7.6"
  }
 },
 "nbformat": 4,
 "nbformat_minor": 4
}
